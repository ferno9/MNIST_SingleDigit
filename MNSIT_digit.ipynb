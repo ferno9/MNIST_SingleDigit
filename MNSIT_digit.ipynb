{
  "nbformat": 4,
  "nbformat_minor": 0,
  "metadata": {
    "colab": {
      "provenance": [],
      "authorship_tag": "ABX9TyMOMw5KEy7DEIw0RVg1jICQ"
    },
    "kernelspec": {
      "name": "python3",
      "display_name": "Python 3"
    },
    "language_info": {
      "name": "python"
    }
  },
  "cells": [
    {
      "cell_type": "code",
      "execution_count": 1,
      "metadata": {
        "id": "2a2XAG_Gk0jo",
        "colab": {
          "base_uri": "https://localhost:8080/"
        },
        "outputId": "f02b0510-e7bb-4ec4-b4f7-3af0bf2da5ef"
      },
      "outputs": [
        {
          "output_type": "stream",
          "name": "stdout",
          "text": [
            "\u001b[K     |████████████████████████████████| 719 kB 31.6 MB/s \n",
            "\u001b[K     |████████████████████████████████| 4.7 MB 65.6 MB/s \n",
            "\u001b[K     |████████████████████████████████| 365 kB 89.2 MB/s \n",
            "\u001b[K     |████████████████████████████████| 1.3 MB 54.8 MB/s \n",
            "\u001b[K     |████████████████████████████████| 120 kB 101.5 MB/s \n",
            "\u001b[K     |████████████████████████████████| 115 kB 101.8 MB/s \n",
            "\u001b[K     |████████████████████████████████| 212 kB 75.4 MB/s \n",
            "\u001b[K     |████████████████████████████████| 127 kB 71.3 MB/s \n",
            "\u001b[K     |████████████████████████████████| 6.6 MB 71.0 MB/s \n",
            "\u001b[?25hMounted at /content/gdrive\n"
          ]
        }
      ],
      "source": [
        "! [ -e /content ] && pip install -Uqq fastbook\n",
        "import fastbook\n",
        "fastbook.setup_book()"
      ]
    },
    {
      "cell_type": "code",
      "source": [
        "from fastai.vision.all import *\n",
        "from fastbook import *\n"
      ],
      "metadata": {
        "id": "JZPtN-Uik5gG"
      },
      "execution_count": 2,
      "outputs": []
    },
    {
      "cell_type": "code",
      "source": [
        "path = untar_data(URLs.MNIST)"
      ],
      "metadata": {
        "colab": {
          "base_uri": "https://localhost:8080/",
          "height": 37
        },
        "id": "8UgAWGkRlLP6",
        "outputId": "511fe8ad-0576-4d1b-b601-9a17ef913554"
      },
      "execution_count": 3,
      "outputs": [
        {
          "output_type": "display_data",
          "data": {
            "text/plain": [
              "<IPython.core.display.HTML object>"
            ],
            "text/html": [
              "\n",
              "<style>\n",
              "    /* Turns off some styling */\n",
              "    progress {\n",
              "        /* gets rid of default border in Firefox and Opera. */\n",
              "        border: none;\n",
              "        /* Needs to be in here for Safari polyfill so background images work as expected. */\n",
              "        background-size: auto;\n",
              "    }\n",
              "    progress:not([value]), progress:not([value])::-webkit-progress-bar {\n",
              "        background: repeating-linear-gradient(45deg, #7e7e7e, #7e7e7e 10px, #5c5c5c 10px, #5c5c5c 20px);\n",
              "    }\n",
              "    .progress-bar-interrupted, .progress-bar-interrupted::-webkit-progress-bar {\n",
              "        background: #F44336;\n",
              "    }\n",
              "</style>\n"
            ]
          },
          "metadata": {}
        },
        {
          "output_type": "display_data",
          "data": {
            "text/plain": [
              "<IPython.core.display.HTML object>"
            ],
            "text/html": [
              "\n",
              "    <div>\n",
              "      <progress value='15687680' class='' max='15683414' style='width:300px; height:20px; vertical-align: middle;'></progress>\n",
              "      100.03% [15687680/15683414 00:00&lt;00:00]\n",
              "    </div>\n",
              "    "
            ]
          },
          "metadata": {}
        }
      ]
    },
    {
      "cell_type": "code",
      "source": [
        "Path.BASE_PATH = path"
      ],
      "metadata": {
        "id": "hL193SqAlOGO"
      },
      "execution_count": 4,
      "outputs": []
    },
    {
      "cell_type": "code",
      "source": [
        "\n",
        "dls=DataBlock((ImageBlock(cls=PILImageBW),CategoryBlock),\n",
        "                   get_items=get_image_files,\n",
        "                   get_y = parent_label,\n",
        "                   splitter = GrandparentSplitter('training','testing'),\n",
        "                   batch_tfms=Normalize()).dataloaders(path,bs=64)\n",
        "\n"
      ],
      "metadata": {
        "id": "ayzo7M2VlTtP"
      },
      "execution_count": 5,
      "outputs": []
    },
    {
      "cell_type": "code",
      "source": [
        "def fit(epochs=1, lr=0.06):\n",
        "    learn = Learner(dls, simple_cnn(), loss_func=F.cross_entropy,\n",
        "                    metrics=accuracy, cbs=ActivationStats(with_hist=True))\n",
        "    learn.fit_one_cycle(epochs, lr)\n",
        "    return learn"
      ],
      "metadata": {
        "id": "Q3hbIOeylXzr"
      },
      "execution_count": 6,
      "outputs": []
    },
    {
      "cell_type": "code",
      "source": [
        "def conv(ni, nf, ks=3, act=True):\n",
        "    layers = [nn.Conv2d(ni, nf, stride=2, kernel_size=ks, padding=ks//2)]\n",
        "    if act: layers.append(nn.ReLU())\n",
        "    layers.append(nn.BatchNorm2d(nf))\n",
        "    return nn.Sequential(*layers)"
      ],
      "metadata": {
        "id": "Cb6Bp9sHlhjf"
      },
      "execution_count": 7,
      "outputs": []
    },
    {
      "cell_type": "code",
      "source": [
        "def simple_cnn():\n",
        "    return sequential(\n",
        "        conv(1 ,8, ks=5),        #14x14\n",
        "        conv(8 ,16),             #7x7\n",
        "        conv(16,32),             #4x4\n",
        "        conv(32,64),             #2x2\n",
        "        conv(64,10, act=False),  #1x1\n",
        "        Flatten(),\n",
        "    )"
      ],
      "metadata": {
        "id": "Mk6Ge2lmllAi"
      },
      "execution_count": 8,
      "outputs": []
    },
    {
      "cell_type": "code",
      "source": [
        "learn = fit(5, lr=0.1)"
      ],
      "metadata": {
        "id": "7v1az0O1lr3t",
        "colab": {
          "base_uri": "https://localhost:8080/",
          "height": 243
        },
        "outputId": "992f004a-b7f8-44c9-c2e1-e1b6446da021"
      },
      "execution_count": 9,
      "outputs": [
        {
          "output_type": "stream",
          "name": "stderr",
          "text": [
            "/usr/local/lib/python3.7/dist-packages/fastai/callback/core.py:69: UserWarning: You are shadowing an attribute (modules) that exists in the learner. Use `self.learn.modules` to avoid this\n",
            "  warn(f\"You are shadowing an attribute ({name}) that exists in the learner. Use `self.learn.{name}` to avoid this\")\n"
          ]
        },
        {
          "output_type": "display_data",
          "data": {
            "text/plain": [
              "<IPython.core.display.HTML object>"
            ],
            "text/html": [
              "\n",
              "<style>\n",
              "    /* Turns off some styling */\n",
              "    progress {\n",
              "        /* gets rid of default border in Firefox and Opera. */\n",
              "        border: none;\n",
              "        /* Needs to be in here for Safari polyfill so background images work as expected. */\n",
              "        background-size: auto;\n",
              "    }\n",
              "    progress:not([value]), progress:not([value])::-webkit-progress-bar {\n",
              "        background: repeating-linear-gradient(45deg, #7e7e7e, #7e7e7e 10px, #5c5c5c 10px, #5c5c5c 20px);\n",
              "    }\n",
              "    .progress-bar-interrupted, .progress-bar-interrupted::-webkit-progress-bar {\n",
              "        background: #F44336;\n",
              "    }\n",
              "</style>\n"
            ]
          },
          "metadata": {}
        },
        {
          "output_type": "display_data",
          "data": {
            "text/plain": [
              "<IPython.core.display.HTML object>"
            ],
            "text/html": [
              "<table border=\"1\" class=\"dataframe\">\n",
              "  <thead>\n",
              "    <tr style=\"text-align: left;\">\n",
              "      <th>epoch</th>\n",
              "      <th>train_loss</th>\n",
              "      <th>valid_loss</th>\n",
              "      <th>accuracy</th>\n",
              "      <th>time</th>\n",
              "    </tr>\n",
              "  </thead>\n",
              "  <tbody>\n",
              "    <tr>\n",
              "      <td>0</td>\n",
              "      <td>0.142462</td>\n",
              "      <td>0.097402</td>\n",
              "      <td>0.968700</td>\n",
              "      <td>01:00</td>\n",
              "    </tr>\n",
              "    <tr>\n",
              "      <td>1</td>\n",
              "      <td>0.086911</td>\n",
              "      <td>0.090723</td>\n",
              "      <td>0.971900</td>\n",
              "      <td>01:00</td>\n",
              "    </tr>\n",
              "    <tr>\n",
              "      <td>2</td>\n",
              "      <td>0.076816</td>\n",
              "      <td>0.069186</td>\n",
              "      <td>0.979200</td>\n",
              "      <td>00:59</td>\n",
              "    </tr>\n",
              "    <tr>\n",
              "      <td>3</td>\n",
              "      <td>0.034913</td>\n",
              "      <td>0.031329</td>\n",
              "      <td>0.991000</td>\n",
              "      <td>01:00</td>\n",
              "    </tr>\n",
              "    <tr>\n",
              "      <td>4</td>\n",
              "      <td>0.019268</td>\n",
              "      <td>0.023806</td>\n",
              "      <td>0.993000</td>\n",
              "      <td>01:00</td>\n",
              "    </tr>\n",
              "  </tbody>\n",
              "</table>"
            ]
          },
          "metadata": {}
        }
      ]
    },
    {
      "cell_type": "code",
      "source": [
        "learn.summary()"
      ],
      "metadata": {
        "colab": {
          "base_uri": "https://localhost:8080/",
          "height": 876
        },
        "id": "MXUIj7gxx3Vj",
        "outputId": "819f664a-0a71-4da1-b526-c0462de78f2c"
      },
      "execution_count": 10,
      "outputs": [
        {
          "output_type": "display_data",
          "data": {
            "text/plain": [
              "<IPython.core.display.HTML object>"
            ],
            "text/html": [
              "\n",
              "<style>\n",
              "    /* Turns off some styling */\n",
              "    progress {\n",
              "        /* gets rid of default border in Firefox and Opera. */\n",
              "        border: none;\n",
              "        /* Needs to be in here for Safari polyfill so background images work as expected. */\n",
              "        background-size: auto;\n",
              "    }\n",
              "    progress:not([value]), progress:not([value])::-webkit-progress-bar {\n",
              "        background: repeating-linear-gradient(45deg, #7e7e7e, #7e7e7e 10px, #5c5c5c 10px, #5c5c5c 20px);\n",
              "    }\n",
              "    .progress-bar-interrupted, .progress-bar-interrupted::-webkit-progress-bar {\n",
              "        background: #F44336;\n",
              "    }\n",
              "</style>\n"
            ]
          },
          "metadata": {}
        },
        {
          "output_type": "display_data",
          "data": {
            "text/plain": [
              "<IPython.core.display.HTML object>"
            ],
            "text/html": []
          },
          "metadata": {}
        },
        {
          "output_type": "execute_result",
          "data": {
            "text/plain": [
              "Sequential (Input shape: 64 x 1 x 28 x 28)\n",
              "============================================================================\n",
              "Layer (type)         Output Shape         Param #    Trainable \n",
              "============================================================================\n",
              "                     64 x 8 x 14 x 14    \n",
              "Conv2d                                    208        True      \n",
              "ReLU                                                           \n",
              "BatchNorm2d                               16         True      \n",
              "____________________________________________________________________________\n",
              "                     64 x 16 x 7 x 7     \n",
              "Conv2d                                    1168       True      \n",
              "ReLU                                                           \n",
              "BatchNorm2d                               32         True      \n",
              "____________________________________________________________________________\n",
              "                     64 x 32 x 4 x 4     \n",
              "Conv2d                                    4640       True      \n",
              "ReLU                                                           \n",
              "BatchNorm2d                               64         True      \n",
              "____________________________________________________________________________\n",
              "                     64 x 64 x 2 x 2     \n",
              "Conv2d                                    18496      True      \n",
              "ReLU                                                           \n",
              "BatchNorm2d                               128        True      \n",
              "____________________________________________________________________________\n",
              "                     64 x 10 x 1 x 1     \n",
              "Conv2d                                    5770       True      \n",
              "BatchNorm2d                               20         True      \n",
              "____________________________________________________________________________\n",
              "                     64 x 10             \n",
              "Flatten                                                        \n",
              "____________________________________________________________________________\n",
              "\n",
              "Total params: 30,542\n",
              "Total trainable params: 30,542\n",
              "Total non-trainable params: 0\n",
              "\n",
              "Optimizer used: <function Adam at 0x7f8103e8a830>\n",
              "Loss function: <function cross_entropy at 0x7f8119b20b90>\n",
              "\n",
              "Model unfrozen\n",
              "\n",
              "Callbacks:\n",
              "  - ActivationStats\n",
              "  - TrainEvalCallback\n",
              "  - CastToTensor\n",
              "  - Recorder\n",
              "  - ProgressCallback"
            ],
            "application/vnd.google.colaboratory.intrinsic+json": {
              "type": "string"
            }
          },
          "metadata": {},
          "execution_count": 10
        }
      ]
    },
    {
      "cell_type": "code",
      "source": [
        "learn.export()"
      ],
      "metadata": {
        "id": "tI6ZOfvslyfo"
      },
      "execution_count": 11,
      "outputs": []
    },
    {
      "cell_type": "code",
      "source": [],
      "metadata": {
        "id": "Hug-lP7Tyd76"
      },
      "execution_count": null,
      "outputs": []
    }
  ]
}